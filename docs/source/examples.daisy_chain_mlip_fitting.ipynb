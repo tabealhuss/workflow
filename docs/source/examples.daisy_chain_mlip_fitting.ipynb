{
 "cells": [
  {
   "cell_type": "markdown",
   "metadata": {},
   "source": [
    "# GAP fit workflow with many wfl use-case examples \n",
    "\n",
    "This notebook walks though a lightweight workflow of fitting a MLIP to showcase usage of a wide range of wfl functions and ways they can be used. \n",
    "\n",
    "The main steps are: \n",
    "\n",
    "1. Create some molecules\n",
    "2. Run GFN2-xTB MD\n",
    "3. Filter by force components\n",
    "4. Calculate global SOAP descriptor\n",
    "5. Perform CUR decomposition to select diverse-ish training and testing sets\n",
    "6. Fit a GAP potential\n",
    "7. Evaluate structures with GAP\n",
    "8. Plot atomization energy and force component correlation plots. \n"
   ]
  },
  {
   "cell_type": "markdown",
   "metadata": {},
   "source": [
    "## Imports \n",
    "\n",
    "In addition to standard packages or wfl dependencies, we make use of three external packages: \n",
    "\n",
    "\n",
    "- quip and quippy which provide interface for fitting and evaluating GAP. \n",
    "  \n",
    "  Documentation: https://pypi.org/project/quippy-ase/ \n",
    "  \n",
    "  Installation: `pip install quippy-ase`\n",
    "\n",
    "\n",
    "- GFN2-xTB: a semi-empirical method designed for molecular systems, used as a reference method. \n",
    "\n",
    "  Documentation: \n",
    "  - https://xtb-docs.readthedocs.io/en/latest/contents.html\n",
    "  - https://xtb-python.readthedocs.io/en/latest/\n",
    "\n",
    "  Installation: `conda install -c conda-forge xtb-python`\n",
    "\n",
    "- RDKit: a chemoinformatics package that wfl uses to convert 2D SMILES strings (e.g. \"CCO\" for ethanol) into 3D `Atoms` objects. \n",
    "\n",
    "  Documentation: https://rdkit.org/\n",
    "\n",
    "  Installation: `conda install -c conda-forge rdkit`\n"
   ]
  },
  {
   "cell_type": "code",
   "execution_count": null,
   "metadata": {},
   "outputs": [],
   "source": [
    "import numpy as np\n",
    "\n",
    "from ase import Atoms\n",
    "\n",
    "from xtb.ase.calculator import XTB\n",
    "\n",
    "from quippy.potential import Potential\n",
    "\n",
    "from wfl.configset import ConfigSet, OutputSpec\n",
    "from wfl.generate import md\n",
    "import wfl.descriptors.quippy\n",
    "import wfl.select.by_descriptor\n",
    "import wfl.fit.gap.simple\n",
    "from wfl.calculators import generic\n",
    "from wfl.autoparallelize import AutoparaInfo\n",
    "from wfl.autoparallelize import RemoteInfo\n",
    "from wfl.generate import smiles\n",
    "from wfl.utils.configs import atomization_energy\n",
    "from wfl.select.simple import by_bool_func\n",
    "from wfl.fit import error\n",
    "import wfl.map\n",
    "from pathlib import Path\n",
    "\n",
    "from expyre.resources import Resources"
   ]
  },
  {
   "cell_type": "code",
   "execution_count": null,
   "metadata": {},
   "outputs": [],
   "source": [
    "# set random seed, so that MD runs, etc are reproducible and we can check for RMSEs. \n",
    "rng = np.random.default_rng(20230301)"
   ]
  },
  {
   "cell_type": "markdown",
   "metadata": {},
   "source": [
    "## Reference calculator \n",
    "\n",
    "The calculator object given to `autoparalellize`-wrapped functions need to be pickle-able, so it can be executed on the parallel Python subprocesses with `multiprocessing.pool`. The calculators that can't be pickled need to be given to workflow functions as \n",
    "\n",
    "`(Initalizer, [args], {kwargs})`\n",
    "\n",
    "e.g. xtb would normally be called with \n",
    "\n",
    "`xtb_calc = XTB(method=\"GFN2-xTB\")`\n",
    "\n",
    "but instead in wfl scripts we define it as"
   ]
  },
  {
   "cell_type": "code",
   "execution_count": null,
   "metadata": {},
   "outputs": [],
   "source": [
    "xtb_calc = (XTB, [], {\"method\": \"GFN2-xTB\"})"
   ]
  },
  {
   "cell_type": "markdown",
   "metadata": {},
   "source": [
    "## Prepare isolated atoms \n",
    "\n",
    "GAP requires reference (`e0`) energies for fitting. We construct `Atoms` objects with a single atom, evaluate them with the reference GFN2-xTB method and store in a file to later combine them with the training set. "
   ]
  },
  {
   "cell_type": "code",
   "execution_count": null,
   "metadata": {},
   "outputs": [],
   "source": [
    "isolated_at_fname='isolated_atoms.xtb.xyz'\n",
    "isolated_atoms = [Atoms(element, positions=[(0, 0, 0)], cell=[50, 50, 50]) for element in [\"H\", \"C\"]]\n",
    "inputs = ConfigSet(isolated_atoms)\n",
    "outputs=OutputSpec(isolated_at_fname, tags={\"config_type\": \"isolated_atom\"})\n",
    "\n",
    "# calculate reference energy\n",
    "isolated_atoms = generic.calculate(\n",
    "    inputs=inputs,\n",
    "    outputs=outputs,\n",
    "    calculator=xtb_calc,\n",
    "    properties=[\"energy\"],\n",
    "    output_prefix=\"xtb_\")"
   ]
  },
  {
   "cell_type": "markdown",
   "metadata": {},
   "source": [
    "## Generate initial structures\n",
    "\n",
    "We build this example on a small number of hydrocarbon molecules. Their connectivity is represented as SMILES strings and use RDKit to them into reasonable 3D geometries to start the molecular dynamics simulation with. "
   ]
  },
  {
   "cell_type": "code",
   "execution_count": null,
   "metadata": {},
   "outputs": [],
   "source": [
    "all_smiles = [\n",
    "    'CC1=CCC=CC(C)=C1C(C)C', \n",
    "    'CC1(c2ccc(CC3CC=CC3)cc2)CC1', \n",
    "    'C#CC[C@@H](CCC=C(C)C)C1CC1', \n",
    "    'Cc1ccccc1CCCC1=CCCCC1', \n",
    "    'C=CC1=CC[C@@H]2C[C@H]1C2(C)C', \n",
    "    'C1=CCC(Cc2ccc(CC3CC3)cc2)C1', \n",
    "    'C1=CC(c2ccccc2)=CCC1', \n",
    "    'C/C=C/CCCC[C@H](C)C(C)(C)C', \n",
    "    'C=C[C@@H]1C/C=C/CCCCCCCC1', \n",
    "    'C[C@H](CC(C)(C)C)[C@@H](C)C(C)(C)C', \n",
    "    'CC/C=C\\\\C[C@@H](C)c1cccc(C)c1C', \n",
    "    'C=C1CC2c3ccccc3C1c1ccccc12']\n",
    "\n",
    "outputs = OutputSpec(\"1.ch.rdkit.xyz\")\n",
    "smiles_configs = smiles.smiles(all_smiles, outputs=outputs)"
   ]
  },
  {
   "cell_type": "code",
   "execution_count": null,
   "metadata": {},
   "outputs": [],
   "source": [
    "# regenerate smiles_configs with a random seed set for testing purposes\n",
    "# this cell is hidden from docs. \n",
    "\n",
    "outputs = OutputSpec(\"1.ch.rdkit.xyz\", overwrite=True)\n",
    "# set seed for smiles generation to a value from our (reproducible) random number generator\n",
    "smiles_configs = smiles.smiles(all_smiles, outputs=outputs, randomSeed=int(rng.integers(np.iinfo(np.int32).max,\n",
    "                                                                                        dtype=np.int32)))"
   ]
  },
  {
   "cell_type": "markdown",
   "metadata": {},
   "source": [
    "## Run Molecular Dynamics simulation\n",
    "\n",
    "We run the MD at 300 K with an NVT Berendsen thermostat to collect a pool of structures from which we will select diverse structures for the training set. "
   ]
  },
  {
   "cell_type": "code",
   "execution_count": null,
   "metadata": {},
   "outputs": [],
   "source": [
    "outputs = OutputSpec(\"2.ch.rdkit.md.traj.xyz\")\n",
    "\n",
    "md_params = {\n",
    "    \"steps\": 80,\n",
    "    \"dt\": 0.5,  # fs\n",
    "    \"temperature\": 300,  # K\n",
    "    \"temperature_tau\": 500,  \n",
    "    \"results_prefix\": \"xtb_\",\n",
    "    \"traj_step_interval\": 5}\n",
    "\n",
    "remote_info = {\n",
    "    \"sys_name\" : \"github\", \n",
    "    \"job_name\" : \"md\", \n",
    "    \"resources\" : { \n",
    "        \"max_time\" : \"15m\",\n",
    "        \"num_cores\" : 2,\n",
    "        \"partitions\" : \"standard\"}, \n",
    "    \"check_interval\": 5,\n",
    "    \"num_inputs_per_queued_job\" :20,\n",
    "}\n"
   ]
  },
  {
   "cell_type": "code",
   "execution_count": null,
   "metadata": {
    "nbsphinx": "hidden"
   },
   "outputs": [],
   "source": [
    "# add random seet for testing purposes\n",
    "# this cell is hidden from tutorials. \n",
    "\n",
    "md_params[\"rng\"] = rng"
   ]
  },
  {
   "cell_type": "code",
   "execution_count": null,
   "metadata": {},
   "outputs": [],
   "source": [
    "md_sample = md.md(\n",
    "    inputs=smiles_configs, \n",
    "    outputs=outputs,\n",
    "    calculator=xtb_calc,\n",
    "    autopara_info = AutoparaInfo(\n",
    "        remote_info=remote_info,\n",
    "        num_python_subprocesses=2),\n",
    "    **md_params)\n"
   ]
  },
  {
   "cell_type": "markdown",
   "metadata": {},
   "source": [
    "# Filter structures\n",
    "\n",
    "While diverse training set leads to better model extrapolation, structures too dissimilar to the region of interest are fitted at the expense of accuracy elsewhere. One way to spot structures somewhat distant from equilibrium is by checking for high force components. Below we exclude such structures via one of wfl's filtering functions."
   ]
  },
  {
   "cell_type": "code",
   "execution_count": null,
   "metadata": {},
   "outputs": [],
   "source": [
    "def are_forces_reasonable(at):\n",
    "    force_comps = at.arrays[\"xtb_forces\"]\n",
    "    return np.all(np.linalg.norm(force_comps, axis=1) < 8)\n",
    "    \n",
    "outputs = OutputSpec(\"3.ch.rdkit.md.traj.filtered.xyz\") \n",
    "\n",
    "md_sample = by_bool_func(\n",
    "    inputs = md_sample, \n",
    "    outputs = outputs,\n",
    "    at_filter = are_forces_reasonable \n",
    ")"
   ]
  },
  {
   "cell_type": "markdown",
   "metadata": {},
   "source": [
    "## Calculate SOAP descriptor"
   ]
  },
  {
   "cell_type": "code",
   "execution_count": null,
   "metadata": {},
   "outputs": [],
   "source": [
    "outputs = OutputSpec(\"4.ch.rdkit.md.traj.local_soap.xyz\")\n",
    "\n",
    "descriptor_key = \"SOAP\"\n",
    "# Descriptor string, just as it would go into quip.\n",
    "# dictionary can have a descriptor per species, e.g. \n",
    "# descriptor = {\n",
    "#   \"H\": \"soap ...\",\n",
    "#   \"C\": \"soap ...\"}\n",
    "# `None` for dictionary keys just means that the same descriptor is used \n",
    "# for all elements. \n",
    "descriptor =   {\n",
    "        None: \"soap l_max=3 n_max=6 cutoff=4 delta=1 covariance_type=dot_product zeta=4 atom_gaussian_width=0.3\"\n",
    "    }\n",
    "\n",
    "# this function isn't parallelised here, but can be\n",
    "# by setting WFL_NUM_PYTHON_SUBPROCESSES or\n",
    "# WFL_EXPYRE_INFO\n",
    "md_soap_local = wfl.descriptors.quippy.calculate(\n",
    "    inputs=md_sample,\n",
    "    outputs=outputs,\n",
    "    descs=descriptor,\n",
    "    key=descriptor_key,\n",
    "    per_atom=True)\n",
    "\n",
    "def get_average_soap(at, descriptor_key):\n",
    "    at_desc = at.arrays.pop(descriptor_key)\n",
    "    at_desc = np.sum(at_desc, axis=0)\n",
    "    at_desc /= np.linalg.norm(at_desc)\n",
    "    at.info[descriptor_key] = at_desc \n",
    "    return at\n",
    "\n",
    "md_soap_global = wfl.map.map(\n",
    "    inputs = md_soap_local,\n",
    "    outputs = OutputSpec(), \n",
    "    map_func = get_average_soap, \n",
    "    args = [descriptor_key])"
   ]
  },
  {
   "cell_type": "markdown",
   "metadata": {},
   "source": [
    "## Sub-select with CUR\n",
    "\n",
    "Select diverse structures for training and testing sets with CUR. "
   ]
  },
  {
   "cell_type": "code",
   "execution_count": null,
   "metadata": {},
   "outputs": [],
   "source": [
    "outputs = OutputSpec(\"5.ch.rdkit.md.traj.soap.cur_selection.xyz\")\n",
    "cur_selection = wfl.select.by_descriptor.CUR_conf_global(\n",
    "    inputs=md_soap_global,\n",
    "    outputs=outputs,\n",
    "    num=100,                    # target number of structures to pick\n",
    "    at_descs_info_key=\"SOAP\", rng=rng)\n",
    "    \n",
    "\n",
    "train_fname = \"6.1.train.xyz\"\n",
    "test_fname = \"6.2.test.xyz\"\n",
    "gap_fname='gap.xml'\n",
    "\n",
    "def process(at):\n",
    "    at.cell = [50, 50, 50]\n",
    "    # For now, SOAP descriptor in atoms.info cannot be parsed by the xyz reader\n",
    "    del at.info[\"SOAP\"]\n",
    "    return at\n",
    "\n",
    "\n",
    "processed_cur_selection = wfl.map.map(\n",
    "    cur_selection,\n",
    "    OutputSpec(),\n",
    "    map_func = process)\n",
    "\n",
    "\n",
    "# label and save training and testing sets\n",
    "train_inputs = ConfigSet(list(processed_cur_selection)[0::2])\n",
    "test_inputs = ConfigSet(list(processed_cur_selection)[1::2])\n",
    "\n",
    "OutputSpec(train_fname, tags={\"config_type\": \"train\"}).write(train_inputs)\n",
    "OutputSpec(test_fname, tags={\"config_type\": \"test\"}).write(test_inputs)"
   ]
  },
  {
   "cell_type": "markdown",
   "metadata": {},
   "source": [
    "## Fit GAP\n",
    "\n",
    "The gap parameter dictionary is almost directly converted to a command for `gap_fit`. "
   ]
  },
  {
   "cell_type": "code",
   "execution_count": null,
   "metadata": {},
   "outputs": [],
   "source": [
    "\n",
    "gap_params = {\n",
    "    \"gap_file\": gap_fname,\n",
    "    \"energy_parameter_name\": \"xtb_energy\", \n",
    "    \"force_parameter_name\": \"xtb_forces\", \n",
    "    \"default_sigma\": [0.001, 0.01, 0.0, 0.0], \n",
    "    \"config_type_kernel_regularisation\": {\"isolated_atom\":[0.0001,0.0001,0.0,0.0]},\n",
    "    \"_gap\": [{\n",
    "            \"soap\": True,\n",
    "            \"l_max\": 3,\n",
    "            \"n_max\": 6, \n",
    "            \"cutoff\": 3,\n",
    "            \"delta\": 0.1,\n",
    "            \"covariance_type\": \"dot_product\",\n",
    "            \"zeta\": 4, \n",
    "            \"n_sparse\":20, \n",
    "            \"sparse_method\": \"cur_points\", \n",
    "            \"atom_gaussian_width\":0.3,\n",
    "            \"cutoff_transition_width\": 0.5},\n",
    "         {\n",
    "            \"soap\": True,\n",
    "            \"l_max\": 3,\n",
    "            \"n_max\": 6, \n",
    "            \"cutoff\": 6,\n",
    "            \"delta\": 0.1,\n",
    "            \"covariance_type\": \"dot_product\",\n",
    "            \"zeta\": 4, \n",
    "            \"n_sparse\":20, \n",
    "            \"sparse_method\": \"cur_points\", \n",
    "            \"atom_gaussian_width\":0.6,\n",
    "            \"cutoff_transition_width\": 1},\n",
    "        {\n",
    "            \"distance_2b\": True,\n",
    "            \"cutoff\": 7, \n",
    "            \"covariance_type\": \"ard_se\",\n",
    "            \"delta\": 1,\n",
    "            \"theta_uniform\": 1.0,\n",
    "            \"sparse_method\": \"uniform\", \n",
    "            \"n_sparse\": 10 \n",
    "        }\n",
    "    ]\n",
    "}\n",
    "\n",
    "remote_info = {\n",
    "    \"sys_name\" : \"github\", \n",
    "    \"job_name\" : \"gap-fit\", \n",
    "    \"resources\" : { \n",
    "        \"max_time\" : \"15m\",\n",
    "        \"num_cores\" : 2,\n",
    "        \"partitions\" : \"standard\"}, \n",
    "    \"check_interval\": 5, \n",
    "}\n"
   ]
  },
  {
   "cell_type": "code",
   "execution_count": null,
   "metadata": {
    "nbsphinx": "hidden"
   },
   "outputs": [],
   "source": [
    "# set to None for github testing purposes\n",
    "# This cell is hidden from being rendered in the docs. \n",
    "# remote_info = None\n",
    "\n",
    "# set seed for gap fitting to a value from our (reproducible) random number generator\n",
    "gap_params[\"rnd_seed\"] = rng.integers(2 ** 31) "
   ]
  },
  {
   "cell_type": "code",
   "execution_count": null,
   "metadata": {},
   "outputs": [],
   "source": [
    "train_configs = ConfigSet([train_fname, isolated_at_fname])\n",
    "wfl.fit.gap.simple.run_gap_fit(\n",
    "    fitting_configs=train_configs,\n",
    "    fitting_dict=gap_params,\n",
    "    stdout_file='gap_fit.out',\n",
    "    skip_if_present=True,\n",
    "    remote_info=remote_info)"
   ]
  },
  {
   "cell_type": "markdown",
   "metadata": {},
   "source": [
    "## Evaluate structures with GAP"
   ]
  },
  {
   "cell_type": "code",
   "execution_count": null,
   "metadata": {},
   "outputs": [],
   "source": [
    "train_fn_with_gap = \"7.1.train.gap.xyz\"\n",
    "test_fn_with_gap = \"7.2.test.gap.xyz\"\n",
    "isolated_at_fn_with_gap = isolated_at_fname.replace('.xyz', '.gap.xyz')\n",
    "\n",
    "inputs = ConfigSet([train_fname, test_fname, isolated_at_fname])\n",
    "outputs = OutputSpec([train_fn_with_gap, test_fn_with_gap, isolated_at_fn_with_gap])\n",
    "\n",
    "gap_calc = (Potential, [], {\"param_filename\":\"gap.xml\"})\n",
    "\n",
    "resources = Resources(\n",
    "    max_time = \"15m\",\n",
    "    num_cores = 2,\n",
    "    partitions = \"standard\")\n",
    "\n",
    "# note - set OMP_NUM_THREADS to prevent GAP evaluation from using OpenMP, \n",
    "# as it clashes with multiprocessing.pool, which wfl uses\n",
    "remote_info = RemoteInfo(\n",
    "    sys_name = \"github\",\n",
    "    job_name = \"gap-eval\",\n",
    "    resources = resources,\n",
    "    check_interval = 10, \n",
    "    env_vars = [\"OMP_NUM_THREADS=1\"],\n",
    "    input_files = [\"gap.xml*\"])\n",
    "\n",
    "gap_calc_autopara_info = AutoparaInfo(\n",
    "    remote_info=remote_info)\n",
    "\n",
    "generic.calculate(\n",
    "    inputs=inputs,\n",
    "    outputs=outputs,\n",
    "    calculator=gap_calc,\n",
    "    properties=[\"energy\", \"forces\"],\n",
    "    output_prefix=\"gap_\",\n",
    "    autopara_info=gap_calc_autopara_info,\n",
    "    )"
   ]
  },
  {
   "cell_type": "markdown",
   "metadata": {},
   "source": [
    "## Evaluate error & plot correlation\n",
    "\n",
    "wfl has simple convenience functions to compare fitted model's performance to the reference method. Here we calculate atomization energy, evaluate RMSE and plot the parity plots for atomization energy per atom and force components. "
   ]
  },
  {
   "cell_type": "code",
   "execution_count": null,
   "metadata": {},
   "outputs": [],
   "source": [
    "# calculate atomization energies\n",
    "for fn in [train_fn_with_gap, test_fn_with_gap]:\n",
    "    configset = ConfigSet([fn, isolated_at_fn_with_gap])\n",
    "    for prop_prefix in [\"xtb_\", \"gap_\"]:\n",
    "        configset = atomization_energy(\n",
    "            inputs=configset, \n",
    "            outputs=OutputSpec([fn, isolated_at_fn_with_gap], overwrite=True), \n",
    "            prop_prefix=prop_prefix) \n",
    "\n",
    "# calculate errors\n",
    "inputs = ConfigSet([train_fn_with_gap, test_fn_with_gap])\n",
    "errors, diffs, parity = error.calc(\n",
    "    inputs=inputs, \n",
    "    calc_property_prefix='gap_',\n",
    "    ref_property_prefix='xtb_',\n",
    "    config_properties=[\"atomization_energy/atom\"],\n",
    "    atom_properties=[\"forces/comp\"])\n",
    "\n",
    "print(error.errors_dumps(errors))\n",
    "\n",
    "# plot parity and error plots\n",
    "error.value_error_scatter(\n",
    "    all_errors = errors, \n",
    "    all_diffs=diffs,\n",
    "    all_parity=parity,\n",
    "    output=\"gap_rmses.png\",\n",
    "    ref_property_prefix=\"xtb_\",\n",
    "    calc_property_prefix=\"gap_\"\n",
    ")\n"
   ]
  },
  {
   "cell_type": "code",
   "execution_count": null,
   "metadata": {
    "nbsphinx": "hidden"
   },
   "outputs": [],
   "source": [
    "from pathlib import Path\n",
    "from pytest import approx\n",
    "\n",
    "# just check that all the files are there, so all steps completed (successfully). \n",
    "\n",
    "expected_files = [\n",
    "    \"isolated_atoms.xtb.xyz\",\n",
    "    \"1.ch.rdkit.xyz\",\n",
    "    \"2.ch.rdkit.md.traj.xyz\",\n",
    "    \"3.ch.rdkit.md.traj.filtered.xyz\",\n",
    "    \"4.ch.rdkit.md.traj.local_soap.xyz\",\n",
    "    \"5.ch.rdkit.md.traj.soap.cur_selection.xyz\",\n",
    "    \"6.1.train.xyz\",\n",
    "    \"6.2.test.xyz\",\n",
    "    \"gap.xml\",\n",
    "    \"7.1.train.gap.xyz\",\n",
    "    \"7.2.test.gap.xyz\",\n",
    "    \"gap_rmses.png\"\n",
    "]\n",
    "\n",
    "for file in expected_files:\n",
    "    print(file)\n",
    "    assert Path(file).exists()\n",
    "\n",
    "ref_errors = {\n",
    "    'atomization_energy/atom': {\n",
    "        'train': {'RMSE': 0.020425437431681327, 'MAE': 0.016212666323964592, 'count': 50}, \n",
    "        '_ALL_': {'RMSE': 0.01965484792256244, 'MAE': 0.015378010911287552, 'count': 100}, \n",
    "        'test': {'RMSE': 0.01885278757750655, 'MAE': 0.014543355498610513, 'count': 50}}, \n",
    "    'forces/comp': {\n",
    "        'train': {'RMSE': 0.6318812940305143, 'MAE': 0.4633571169452562, 'count': 5133},\n",
    "        '_ALL_': {'RMSE': 0.6455044814693653, 'MAE': 0.4741960245074422, 'count': 10212}, \n",
    "        'test': {'RMSE': 0.6589864341996843, 'MAE': 0.48515017148848205, 'count': 5079}}}\n",
    "\n",
    "print(errors)\n",
    "\n",
    "for prop_key, prop_dict in ref_errors.items():\n",
    "    for config_key, config_dict in prop_dict.items():\n",
    "        for measure_key, val in config_dict.items():\n",
    "            if measure_key == \"count\":\n",
    "                continue\n",
    "            pred_val = errors[prop_key][config_key][measure_key]\n",
    "            assert val == approx(pred_val), f'Mismatch for ref prop {prop_key} config {config_key} measure {measure_key} ref {val} != actual {pred_val}'\n"
   ]
  },
  {
   "cell_type": "code",
   "execution_count": null,
   "metadata": {},
   "outputs": [],
   "source": []
  }
 ],
 "metadata": {
  "kernelspec": {
   "display_name": "Python 3 (ipykernel)",
   "language": "python",
   "name": "python3"
  },
  "language_info": {
   "codemirror_mode": {
    "name": "ipython",
    "version": 3
   },
   "file_extension": ".py",
   "mimetype": "text/x-python",
   "name": "python",
   "nbconvert_exporter": "python",
   "pygments_lexer": "ipython3",
   "version": "3.9.16"
  },
  "vscode": {
   "interpreter": {
    "hash": "793ab331f77558158f2e16fabf356357fde3f61b8f3bb6d95e9b59dbfcb88650"
   }
  }
 },
 "nbformat": 4,
 "nbformat_minor": 2
}
